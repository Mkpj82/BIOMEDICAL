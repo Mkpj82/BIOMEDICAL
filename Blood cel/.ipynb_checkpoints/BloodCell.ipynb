{
 "cells": [
  {
   "cell_type": "code",
   "execution_count": null,
   "metadata": {},
   "outputs": [],
   "source": [
    "import numpy as np \n",
    "import cv2 \n",
    "import matplotlib.pyplot as plt "
   ]
  },
  {
   "cell_type": "code",
   "execution_count": null,
   "metadata": {},
   "outputs": [],
   "source": [
    "image = cv2.imread(\"C:/Users/mradul pandey/OneDrive/Documents/c120.png\")"
   ]
  },
  {
   "cell_type": "code",
   "execution_count": null,
   "metadata": {},
   "outputs": [],
   "source": [
    "gray = cv2.cvtColor(image, cv2.COLOR_BGR2GRAY) \n",
    "cv2.imwrite('gray.png', gray)"
   ]
  },
  {
   "cell_type": "code",
   "execution_count": null,
   "metadata": {},
   "outputs": [],
   "source": [
    "blurM = cv2.medianBlur(gray, 5) \n",
    "cv2.imwrite('blurM.png', blurM)"
   ]
  },
  {
   "cell_type": "code",
   "execution_count": null,
   "metadata": {},
   "outputs": [],
   "source": [
    "blurG = cv2.GaussianBlur(gray, (9, 9), 0) \n",
    "cv2.imwrite('blurG.png', blurG)"
   ]
  },
  {
   "cell_type": "code",
   "execution_count": null,
   "metadata": {},
   "outputs": [],
   "source": [
    "histoNorm = cv2.equalizeHist(gray) \n",
    "cv2.imwrite('histoNorm.png', histoNorm)"
   ]
  },
  {
   "cell_type": "code",
   "execution_count": null,
   "metadata": {},
   "outputs": [],
   "source": [
    "clahe = cv2.createCLAHE(clipLimit = 2.0, tileGridSize=(8, 8)) \n",
    "claheNorm = clahe.apply(gray) \n",
    "cv2.imwrite('claheNorm.png', claheNorm) \n"
   ]
  },
  {
   "cell_type": "code",
   "execution_count": null,
   "metadata": {},
   "outputs": [],
   "source": [
    "def pixelVal(pix, r1, s1, r2, s2): \n",
    "\tif (0 <= pix and pix <= r1): \n",
    "\t\treturn (s1 / r1) * pix \n",
    "\telif (r1 < pix and pix <= r2): \n",
    "\t\treturn ((s2 - s1) / (r2 - r1)) * (pix - r1) + s1 \n",
    "\telse: \n",
    "\t\treturn ((255 - s2) / (255 - r2)) * (pix - r2) + s2 "
   ]
  },
  {
   "cell_type": "code",
   "execution_count": null,
   "metadata": {},
   "outputs": [],
   "source": [
    "r1 = 70\n",
    "s1 = 0\n",
    "r2 = 200\n",
    "s2 = 255"
   ]
  },
  {
   "cell_type": "code",
   "execution_count": null,
   "metadata": {},
   "outputs": [],
   "source": [
    "pixelVal_vec = np.vectorize(pixelVal) "
   ]
  },
  {
   "cell_type": "code",
   "execution_count": null,
   "metadata": {},
   "outputs": [],
   "source": [
    "contrast_stretched = pixelVal_vec(gray, r1, s1, r2, s2) \n",
    "contrast_stretched_blurM = pixelVal_vec(blurM, r1, s1, r2, s2)\n",
    "cv2.imwrite('contrast_stretch.png', contrast_stretched) \n",
    "cv2.imwrite('contrast_stretch_blurM.png', \n",
    "\t\t\tcontrast_stretched_blurM)"
   ]
  },
  {
   "cell_type": "code",
   "execution_count": null,
   "metadata": {},
   "outputs": [],
   "source": [
    "edge = cv2.Canny(gray, 100, 200) \n",
    "cv2.imwrite('edge.png', edge) \n",
    "\n",
    "edgeG = cv2.Canny(blurG, 100, 200) \n",
    "cv2.imwrite('edgeG.png', edgeG) \n",
    "\n",
    "edgeM = cv2.Canny(blurM, 100, 200) \n",
    "cv2.imwrite('edgeM.png', edgeM)"
   ]
  },
  {
   "cell_type": "code",
   "execution_count": null,
   "metadata": {},
   "outputs": [],
   "source": []
  },
  {
   "cell_type": "code",
   "execution_count": null,
   "metadata": {},
   "outputs": [],
   "source": []
  }
 ],
 "metadata": {
  "kernelspec": {
   "name": "python3",
   "display_name": "Python 3.7.4 32-bit",
   "metadata": {
    "interpreter": {
     "hash": "65136cabe9cf9ab091af5448304105b5941f470e2948da6aba0994ddacda8173"
    }
   }
  }
 },
 "nbformat": 4,
 "nbformat_minor": 4
}